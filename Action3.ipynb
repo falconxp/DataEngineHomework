{
 "nbformat": 4,
 "nbformat_minor": 2,
 "metadata": {
  "language_info": {
   "name": "python",
   "codemirror_mode": {
    "name": "ipython",
    "version": 3
   },
   "version": "3.7.4-final"
  },
  "orig_nbformat": 2,
  "file_extension": ".py",
  "mimetype": "text/x-python",
  "name": "python",
  "npconvert_exporter": "python",
  "pygments_lexer": "ipython3",
  "version": 3,
  "kernelspec": {
   "name": "python3",
   "display_name": "Python 3"
  }
 },
 "cells": [
  {
   "cell_type": "code",
   "execution_count": 1,
   "metadata": {},
   "outputs": [
    {
     "output_type": "execute_result",
     "data": {
      "text/plain": "         id  brand     car_model                   type  \\\n0    482028  一汽马自达           阿特兹       2020款 2.5L 蓝天运动版   \n1    482027   江淮汽车       江淮iEV6E            2017款 iEV6E   \n2    482026  一汽马自达           阿特兹       2020款 2.5L 蓝天运动版   \n3    482022  一汽-大众            迈腾   2009款 1.8TSI DSG 舒适型   \n4    482019   众泰汽车  众泰T600 Coupe      2017款 1.5T 自动 尊享型   \n..      ...    ...           ...                    ...   \n595  480802   北京现代            领动   2016款 1.6L 自动 智炫·精英型   \n596  480801  一汽-大众           高尔夫   2016款 1.4TSI 25周年纪念版   \n597  480799   吉利汽车            星越    2020款 350T 魅影骑士版AWD   \n598  480798   北京现代            悦纳  2016款 1.4L 手动 炫酷版 GLS   \n599  480795   东风日产            逍客     2016款 2.0L CVT 精英版   \n\n                       desc              problem    datetime status  \n0       一汽马自达阿特兹B柱异响 车内异响严重             H93,H15,  2020-06-08   信息审核  \n1        江淮iEV6E动力电池故障 无法充电                H343,  2020-06-08   信息审核  \n2         一汽马自达阿特兹车身异响 天窗异响         H93,H15,H89,  2020-06-08   信息审核  \n3        一汽大众迈腾起步和刹车时车辆抖动\\t            B84,E111,  2020-06-08   信息审核  \n4    众泰T600 Coupe售后维修配件一直缺货                N318,  2020-06-08   厂家受理  \n..                      ...                  ...         ...    ...  \n595   北京现代领动ABS和防侧滑故障灯同时亮\\t  E62,H170,I295,I294,  2020-06-05   信息审核  \n596      一汽大众高尔夫仪表提示变速箱挂入P挡                 B96,  2020-06-05   处理反馈  \n597       吉利星越车机系统虚假宣传 卡顿严重           H155,M279,  2020-06-05   用户评分  \n598         北京现代悦纳发动机曲轴螺丝断裂                A145,  2020-06-05   信息审核  \n599      东风日产逍客变速箱报故障码P17F1                 B84,  2020-06-05   处理反馈  \n\n[600 rows x 8 columns]",
      "text/html": "<div>\n<style scoped>\n    .dataframe tbody tr th:only-of-type {\n        vertical-align: middle;\n    }\n\n    .dataframe tbody tr th {\n        vertical-align: top;\n    }\n\n    .dataframe thead th {\n        text-align: right;\n    }\n</style>\n<table border=\"1\" class=\"dataframe\">\n  <thead>\n    <tr style=\"text-align: right;\">\n      <th></th>\n      <th>id</th>\n      <th>brand</th>\n      <th>car_model</th>\n      <th>type</th>\n      <th>desc</th>\n      <th>problem</th>\n      <th>datetime</th>\n      <th>status</th>\n    </tr>\n  </thead>\n  <tbody>\n    <tr>\n      <td>0</td>\n      <td>482028</td>\n      <td>一汽马自达</td>\n      <td>阿特兹</td>\n      <td>2020款 2.5L 蓝天运动版</td>\n      <td>一汽马自达阿特兹B柱异响 车内异响严重</td>\n      <td>H93,H15,</td>\n      <td>2020-06-08</td>\n      <td>信息审核</td>\n    </tr>\n    <tr>\n      <td>1</td>\n      <td>482027</td>\n      <td>江淮汽车</td>\n      <td>江淮iEV6E</td>\n      <td>2017款 iEV6E</td>\n      <td>江淮iEV6E动力电池故障 无法充电</td>\n      <td>H343,</td>\n      <td>2020-06-08</td>\n      <td>信息审核</td>\n    </tr>\n    <tr>\n      <td>2</td>\n      <td>482026</td>\n      <td>一汽马自达</td>\n      <td>阿特兹</td>\n      <td>2020款 2.5L 蓝天运动版</td>\n      <td>一汽马自达阿特兹车身异响 天窗异响</td>\n      <td>H93,H15,H89,</td>\n      <td>2020-06-08</td>\n      <td>信息审核</td>\n    </tr>\n    <tr>\n      <td>3</td>\n      <td>482022</td>\n      <td>一汽-大众</td>\n      <td>迈腾</td>\n      <td>2009款 1.8TSI DSG 舒适型</td>\n      <td>一汽大众迈腾起步和刹车时车辆抖动\\t</td>\n      <td>B84,E111,</td>\n      <td>2020-06-08</td>\n      <td>信息审核</td>\n    </tr>\n    <tr>\n      <td>4</td>\n      <td>482019</td>\n      <td>众泰汽车</td>\n      <td>众泰T600 Coupe</td>\n      <td>2017款 1.5T 自动 尊享型</td>\n      <td>众泰T600 Coupe售后维修配件一直缺货</td>\n      <td>N318,</td>\n      <td>2020-06-08</td>\n      <td>厂家受理</td>\n    </tr>\n    <tr>\n      <td>...</td>\n      <td>...</td>\n      <td>...</td>\n      <td>...</td>\n      <td>...</td>\n      <td>...</td>\n      <td>...</td>\n      <td>...</td>\n      <td>...</td>\n    </tr>\n    <tr>\n      <td>595</td>\n      <td>480802</td>\n      <td>北京现代</td>\n      <td>领动</td>\n      <td>2016款 1.6L 自动 智炫·精英型</td>\n      <td>北京现代领动ABS和防侧滑故障灯同时亮\\t</td>\n      <td>E62,H170,I295,I294,</td>\n      <td>2020-06-05</td>\n      <td>信息审核</td>\n    </tr>\n    <tr>\n      <td>596</td>\n      <td>480801</td>\n      <td>一汽-大众</td>\n      <td>高尔夫</td>\n      <td>2016款 1.4TSI 25周年纪念版</td>\n      <td>一汽大众高尔夫仪表提示变速箱挂入P挡</td>\n      <td>B96,</td>\n      <td>2020-06-05</td>\n      <td>处理反馈</td>\n    </tr>\n    <tr>\n      <td>597</td>\n      <td>480799</td>\n      <td>吉利汽车</td>\n      <td>星越</td>\n      <td>2020款 350T 魅影骑士版AWD</td>\n      <td>吉利星越车机系统虚假宣传 卡顿严重</td>\n      <td>H155,M279,</td>\n      <td>2020-06-05</td>\n      <td>用户评分</td>\n    </tr>\n    <tr>\n      <td>598</td>\n      <td>480798</td>\n      <td>北京现代</td>\n      <td>悦纳</td>\n      <td>2016款 1.4L 手动 炫酷版 GLS</td>\n      <td>北京现代悦纳发动机曲轴螺丝断裂</td>\n      <td>A145,</td>\n      <td>2020-06-05</td>\n      <td>信息审核</td>\n    </tr>\n    <tr>\n      <td>599</td>\n      <td>480795</td>\n      <td>东风日产</td>\n      <td>逍客</td>\n      <td>2016款 2.0L CVT 精英版</td>\n      <td>东风日产逍客变速箱报故障码P17F1</td>\n      <td>B84,</td>\n      <td>2020-06-05</td>\n      <td>处理反馈</td>\n    </tr>\n  </tbody>\n</table>\n<p>600 rows × 8 columns</p>\n</div>"
     },
     "metadata": {},
     "execution_count": 1
    }
   ],
   "source": [
    "#Step1:Import data\n",
    "import pandas as pd\n",
    "result = pd.read_csv('car_data_analyze/car_complain.csv')\n",
    "result"
   ]
  },
  {
   "cell_type": "code",
   "execution_count": 2,
   "metadata": {},
   "outputs": [
    {
     "output_type": "execute_result",
     "data": {
      "text/plain": "         id  brand     car_model                   type  \\\n0    482028  一汽马自达           阿特兹       2020款 2.5L 蓝天运动版   \n1    482027   江淮汽车       江淮iEV6E            2017款 iEV6E   \n2    482026  一汽马自达           阿特兹       2020款 2.5L 蓝天运动版   \n3    482022  一汽-大众            迈腾   2009款 1.8TSI DSG 舒适型   \n4    482019   众泰汽车  众泰T600 Coupe      2017款 1.5T 自动 尊享型   \n..      ...    ...           ...                    ...   \n595  480802   北京现代            领动   2016款 1.6L 自动 智炫·精英型   \n596  480801  一汽-大众           高尔夫   2016款 1.4TSI 25周年纪念版   \n597  480799   吉利汽车            星越    2020款 350T 魅影骑士版AWD   \n598  480798   北京现代            悦纳  2016款 1.4L 手动 炫酷版 GLS   \n599  480795   东风日产            逍客     2016款 2.0L CVT 精英版   \n\n                       desc    datetime status  A11  A114  A12  ...  N318  \\\n0       一汽马自达阿特兹B柱异响 车内异响严重  2020-06-08   信息审核    0     0    0  ...     0   \n1        江淮iEV6E动力电池故障 无法充电  2020-06-08   信息审核    0     0    0  ...     0   \n2         一汽马自达阿特兹车身异响 天窗异响  2020-06-08   信息审核    0     0    0  ...     0   \n3        一汽大众迈腾起步和刹车时车辆抖动\\t  2020-06-08   信息审核    0     0    0  ...     0   \n4    众泰T600 Coupe售后维修配件一直缺货  2020-06-08   厂家受理    0     0    0  ...     1   \n..                      ...         ...    ...  ...   ...  ...  ...   ...   \n595   北京现代领动ABS和防侧滑故障灯同时亮\\t  2020-06-05   信息审核    0     0    0  ...     0   \n596      一汽大众高尔夫仪表提示变速箱挂入P挡  2020-06-05   处理反馈    0     0    0  ...     0   \n597       吉利星越车机系统虚假宣传 卡顿严重  2020-06-05   用户评分    0     0    0  ...     0   \n598         北京现代悦纳发动机曲轴螺丝断裂  2020-06-05   信息审核    0     0    0  ...     0   \n599      东风日产逍客变速箱报故障码P17F1  2020-06-05   处理反馈    0     0    0  ...     0   \n\n     N319  O296  O326  O348  O354  Q322  Q323  Q349  Q350  \n0       0     0     0     0     0     0     0     0     0  \n1       0     0     0     0     0     0     0     0     0  \n2       0     0     0     0     0     0     0     0     0  \n3       0     0     0     0     0     0     0     0     0  \n4       0     0     0     0     0     0     0     0     0  \n..    ...   ...   ...   ...   ...   ...   ...   ...   ...  \n595     0     0     0     0     0     0     0     0     0  \n596     0     0     0     0     0     0     0     0     0  \n597     0     0     0     0     0     0     0     0     0  \n598     0     0     0     0     0     0     0     0     0  \n599     0     0     0     0     0     0     0     0     0  \n\n[600 rows x 181 columns]",
      "text/html": "<div>\n<style scoped>\n    .dataframe tbody tr th:only-of-type {\n        vertical-align: middle;\n    }\n\n    .dataframe tbody tr th {\n        vertical-align: top;\n    }\n\n    .dataframe thead th {\n        text-align: right;\n    }\n</style>\n<table border=\"1\" class=\"dataframe\">\n  <thead>\n    <tr style=\"text-align: right;\">\n      <th></th>\n      <th>id</th>\n      <th>brand</th>\n      <th>car_model</th>\n      <th>type</th>\n      <th>desc</th>\n      <th>datetime</th>\n      <th>status</th>\n      <th>A11</th>\n      <th>A114</th>\n      <th>A12</th>\n      <th>...</th>\n      <th>N318</th>\n      <th>N319</th>\n      <th>O296</th>\n      <th>O326</th>\n      <th>O348</th>\n      <th>O354</th>\n      <th>Q322</th>\n      <th>Q323</th>\n      <th>Q349</th>\n      <th>Q350</th>\n    </tr>\n  </thead>\n  <tbody>\n    <tr>\n      <td>0</td>\n      <td>482028</td>\n      <td>一汽马自达</td>\n      <td>阿特兹</td>\n      <td>2020款 2.5L 蓝天运动版</td>\n      <td>一汽马自达阿特兹B柱异响 车内异响严重</td>\n      <td>2020-06-08</td>\n      <td>信息审核</td>\n      <td>0</td>\n      <td>0</td>\n      <td>0</td>\n      <td>...</td>\n      <td>0</td>\n      <td>0</td>\n      <td>0</td>\n      <td>0</td>\n      <td>0</td>\n      <td>0</td>\n      <td>0</td>\n      <td>0</td>\n      <td>0</td>\n      <td>0</td>\n    </tr>\n    <tr>\n      <td>1</td>\n      <td>482027</td>\n      <td>江淮汽车</td>\n      <td>江淮iEV6E</td>\n      <td>2017款 iEV6E</td>\n      <td>江淮iEV6E动力电池故障 无法充电</td>\n      <td>2020-06-08</td>\n      <td>信息审核</td>\n      <td>0</td>\n      <td>0</td>\n      <td>0</td>\n      <td>...</td>\n      <td>0</td>\n      <td>0</td>\n      <td>0</td>\n      <td>0</td>\n      <td>0</td>\n      <td>0</td>\n      <td>0</td>\n      <td>0</td>\n      <td>0</td>\n      <td>0</td>\n    </tr>\n    <tr>\n      <td>2</td>\n      <td>482026</td>\n      <td>一汽马自达</td>\n      <td>阿特兹</td>\n      <td>2020款 2.5L 蓝天运动版</td>\n      <td>一汽马自达阿特兹车身异响 天窗异响</td>\n      <td>2020-06-08</td>\n      <td>信息审核</td>\n      <td>0</td>\n      <td>0</td>\n      <td>0</td>\n      <td>...</td>\n      <td>0</td>\n      <td>0</td>\n      <td>0</td>\n      <td>0</td>\n      <td>0</td>\n      <td>0</td>\n      <td>0</td>\n      <td>0</td>\n      <td>0</td>\n      <td>0</td>\n    </tr>\n    <tr>\n      <td>3</td>\n      <td>482022</td>\n      <td>一汽-大众</td>\n      <td>迈腾</td>\n      <td>2009款 1.8TSI DSG 舒适型</td>\n      <td>一汽大众迈腾起步和刹车时车辆抖动\\t</td>\n      <td>2020-06-08</td>\n      <td>信息审核</td>\n      <td>0</td>\n      <td>0</td>\n      <td>0</td>\n      <td>...</td>\n      <td>0</td>\n      <td>0</td>\n      <td>0</td>\n      <td>0</td>\n      <td>0</td>\n      <td>0</td>\n      <td>0</td>\n      <td>0</td>\n      <td>0</td>\n      <td>0</td>\n    </tr>\n    <tr>\n      <td>4</td>\n      <td>482019</td>\n      <td>众泰汽车</td>\n      <td>众泰T600 Coupe</td>\n      <td>2017款 1.5T 自动 尊享型</td>\n      <td>众泰T600 Coupe售后维修配件一直缺货</td>\n      <td>2020-06-08</td>\n      <td>厂家受理</td>\n      <td>0</td>\n      <td>0</td>\n      <td>0</td>\n      <td>...</td>\n      <td>1</td>\n      <td>0</td>\n      <td>0</td>\n      <td>0</td>\n      <td>0</td>\n      <td>0</td>\n      <td>0</td>\n      <td>0</td>\n      <td>0</td>\n      <td>0</td>\n    </tr>\n    <tr>\n      <td>...</td>\n      <td>...</td>\n      <td>...</td>\n      <td>...</td>\n      <td>...</td>\n      <td>...</td>\n      <td>...</td>\n      <td>...</td>\n      <td>...</td>\n      <td>...</td>\n      <td>...</td>\n      <td>...</td>\n      <td>...</td>\n      <td>...</td>\n      <td>...</td>\n      <td>...</td>\n      <td>...</td>\n      <td>...</td>\n      <td>...</td>\n      <td>...</td>\n      <td>...</td>\n      <td>...</td>\n    </tr>\n    <tr>\n      <td>595</td>\n      <td>480802</td>\n      <td>北京现代</td>\n      <td>领动</td>\n      <td>2016款 1.6L 自动 智炫·精英型</td>\n      <td>北京现代领动ABS和防侧滑故障灯同时亮\\t</td>\n      <td>2020-06-05</td>\n      <td>信息审核</td>\n      <td>0</td>\n      <td>0</td>\n      <td>0</td>\n      <td>...</td>\n      <td>0</td>\n      <td>0</td>\n      <td>0</td>\n      <td>0</td>\n      <td>0</td>\n      <td>0</td>\n      <td>0</td>\n      <td>0</td>\n      <td>0</td>\n      <td>0</td>\n    </tr>\n    <tr>\n      <td>596</td>\n      <td>480801</td>\n      <td>一汽-大众</td>\n      <td>高尔夫</td>\n      <td>2016款 1.4TSI 25周年纪念版</td>\n      <td>一汽大众高尔夫仪表提示变速箱挂入P挡</td>\n      <td>2020-06-05</td>\n      <td>处理反馈</td>\n      <td>0</td>\n      <td>0</td>\n      <td>0</td>\n      <td>...</td>\n      <td>0</td>\n      <td>0</td>\n      <td>0</td>\n      <td>0</td>\n      <td>0</td>\n      <td>0</td>\n      <td>0</td>\n      <td>0</td>\n      <td>0</td>\n      <td>0</td>\n    </tr>\n    <tr>\n      <td>597</td>\n      <td>480799</td>\n      <td>吉利汽车</td>\n      <td>星越</td>\n      <td>2020款 350T 魅影骑士版AWD</td>\n      <td>吉利星越车机系统虚假宣传 卡顿严重</td>\n      <td>2020-06-05</td>\n      <td>用户评分</td>\n      <td>0</td>\n      <td>0</td>\n      <td>0</td>\n      <td>...</td>\n      <td>0</td>\n      <td>0</td>\n      <td>0</td>\n      <td>0</td>\n      <td>0</td>\n      <td>0</td>\n      <td>0</td>\n      <td>0</td>\n      <td>0</td>\n      <td>0</td>\n    </tr>\n    <tr>\n      <td>598</td>\n      <td>480798</td>\n      <td>北京现代</td>\n      <td>悦纳</td>\n      <td>2016款 1.4L 手动 炫酷版 GLS</td>\n      <td>北京现代悦纳发动机曲轴螺丝断裂</td>\n      <td>2020-06-05</td>\n      <td>信息审核</td>\n      <td>0</td>\n      <td>0</td>\n      <td>0</td>\n      <td>...</td>\n      <td>0</td>\n      <td>0</td>\n      <td>0</td>\n      <td>0</td>\n      <td>0</td>\n      <td>0</td>\n      <td>0</td>\n      <td>0</td>\n      <td>0</td>\n      <td>0</td>\n    </tr>\n    <tr>\n      <td>599</td>\n      <td>480795</td>\n      <td>东风日产</td>\n      <td>逍客</td>\n      <td>2016款 2.0L CVT 精英版</td>\n      <td>东风日产逍客变速箱报故障码P17F1</td>\n      <td>2020-06-05</td>\n      <td>处理反馈</td>\n      <td>0</td>\n      <td>0</td>\n      <td>0</td>\n      <td>...</td>\n      <td>0</td>\n      <td>0</td>\n      <td>0</td>\n      <td>0</td>\n      <td>0</td>\n      <td>0</td>\n      <td>0</td>\n      <td>0</td>\n      <td>0</td>\n      <td>0</td>\n    </tr>\n  </tbody>\n</table>\n<p>600 rows × 181 columns</p>\n</div>"
     },
     "metadata": {},
     "execution_count": 2
    }
   ],
   "source": [
    "#Step2:Convert problem to independent columns\n",
    "result = result.drop('problem',1).join(result.problem.str.get_dummies(','))\n",
    "result"
   ]
  },
  {
   "cell_type": "code",
   "execution_count": 3,
   "metadata": {},
   "outputs": [
    {
     "output_type": "execute_result",
     "data": {
      "text/plain": "         count\nbrand         \n吉利汽车        96\n一汽马自达       95\n一汽-大众       52\n上汽大众        36\n一汽-大众奥迪     19\n...        ...\n开瑞汽车         1\n天津一汽         1\n凯翼汽车         1\n奇瑞新能源        1\n东风风行         1\n\n[75 rows x 1 columns]",
      "text/html": "<div>\n<style scoped>\n    .dataframe tbody tr th:only-of-type {\n        vertical-align: middle;\n    }\n\n    .dataframe tbody tr th {\n        vertical-align: top;\n    }\n\n    .dataframe thead th {\n        text-align: right;\n    }\n</style>\n<table border=\"1\" class=\"dataframe\">\n  <thead>\n    <tr style=\"text-align: right;\">\n      <th></th>\n      <th>count</th>\n    </tr>\n    <tr>\n      <th>brand</th>\n      <th></th>\n    </tr>\n  </thead>\n  <tbody>\n    <tr>\n      <td>吉利汽车</td>\n      <td>96</td>\n    </tr>\n    <tr>\n      <td>一汽马自达</td>\n      <td>95</td>\n    </tr>\n    <tr>\n      <td>一汽-大众</td>\n      <td>52</td>\n    </tr>\n    <tr>\n      <td>上汽大众</td>\n      <td>36</td>\n    </tr>\n    <tr>\n      <td>一汽-大众奥迪</td>\n      <td>19</td>\n    </tr>\n    <tr>\n      <td>...</td>\n      <td>...</td>\n    </tr>\n    <tr>\n      <td>开瑞汽车</td>\n      <td>1</td>\n    </tr>\n    <tr>\n      <td>天津一汽</td>\n      <td>1</td>\n    </tr>\n    <tr>\n      <td>凯翼汽车</td>\n      <td>1</td>\n    </tr>\n    <tr>\n      <td>奇瑞新能源</td>\n      <td>1</td>\n    </tr>\n    <tr>\n      <td>东风风行</td>\n      <td>1</td>\n    </tr>\n  </tbody>\n</table>\n<p>75 rows × 1 columns</p>\n</div>"
     },
     "metadata": {},
     "execution_count": 3
    }
   ],
   "source": [
    "#Step3:Statistic data\n",
    "#count and sort problems by brand\n",
    "df1 = result.groupby(['brand'])['id'].agg(['count']).sort_values('count',ascending=0)\n",
    "df1"
   ]
  },
  {
   "cell_type": "code",
   "execution_count": 4,
   "metadata": {},
   "outputs": [
    {
     "output_type": "execute_result",
     "data": {
      "text/plain": "           count\ncar_model       \n阿特兹           75\n星越            43\n速腾            22\n马自达CX-4       20\n博越            13\n...          ...\n悦翔             1\n捷豹XEL          1\n捷豹XFL          1\n撼路者            1\n高尔夫（进口）        1\n\n[212 rows x 1 columns]",
      "text/html": "<div>\n<style scoped>\n    .dataframe tbody tr th:only-of-type {\n        vertical-align: middle;\n    }\n\n    .dataframe tbody tr th {\n        vertical-align: top;\n    }\n\n    .dataframe thead th {\n        text-align: right;\n    }\n</style>\n<table border=\"1\" class=\"dataframe\">\n  <thead>\n    <tr style=\"text-align: right;\">\n      <th></th>\n      <th>count</th>\n    </tr>\n    <tr>\n      <th>car_model</th>\n      <th></th>\n    </tr>\n  </thead>\n  <tbody>\n    <tr>\n      <td>阿特兹</td>\n      <td>75</td>\n    </tr>\n    <tr>\n      <td>星越</td>\n      <td>43</td>\n    </tr>\n    <tr>\n      <td>速腾</td>\n      <td>22</td>\n    </tr>\n    <tr>\n      <td>马自达CX-4</td>\n      <td>20</td>\n    </tr>\n    <tr>\n      <td>博越</td>\n      <td>13</td>\n    </tr>\n    <tr>\n      <td>...</td>\n      <td>...</td>\n    </tr>\n    <tr>\n      <td>悦翔</td>\n      <td>1</td>\n    </tr>\n    <tr>\n      <td>捷豹XEL</td>\n      <td>1</td>\n    </tr>\n    <tr>\n      <td>捷豹XFL</td>\n      <td>1</td>\n    </tr>\n    <tr>\n      <td>撼路者</td>\n      <td>1</td>\n    </tr>\n    <tr>\n      <td>高尔夫（进口）</td>\n      <td>1</td>\n    </tr>\n  </tbody>\n</table>\n<p>212 rows × 1 columns</p>\n</div>"
     },
     "metadata": {},
     "execution_count": 4
    }
   ],
   "source": [
    "#count and sort problems by car_model\n",
    "df2 = result.groupby(['car_model'])['id'].agg(['count']).sort_values('count',ascending=0)\n",
    "df2"
   ]
  },
  {
   "cell_type": "code",
   "execution_count": 5,
   "metadata": {},
   "outputs": [
    {
     "output_type": "execute_result",
     "data": {
      "text/plain": "            id  brand     car_model                   type  \\\n0       482028  一汽马自达           阿特兹       2020款 2.5L 蓝天运动版   \n1       482027   江淮汽车       江淮iEV6E            2017款 iEV6E   \n2       482026  一汽马自达           阿特兹       2020款 2.5L 蓝天运动版   \n3       482022  一汽-大众            迈腾   2009款 1.8TSI DSG 舒适型   \n4       482019   众泰汽车  众泰T600 Coupe      2017款 1.5T 自动 尊享型   \n...        ...    ...           ...                    ...   \n104395  480802   北京现代            领动   2016款 1.6L 自动 智炫·精英型   \n104396  480801  一汽-大众           高尔夫   2016款 1.4TSI 25周年纪念版   \n104397  480799   吉利汽车            星越    2020款 350T 魅影骑士版AWD   \n104398  480798   北京现代            悦纳  2016款 1.4L 手动 炫酷版 GLS   \n104399  480795   东风日产            逍客     2016款 2.0L CVT 精英版   \n\n                          desc    datetime status problem_type  count  \n0          一汽马自达阿特兹B柱异响 车内异响严重  2020-06-08   信息审核          A11      0  \n1           江淮iEV6E动力电池故障 无法充电  2020-06-08   信息审核          A11      0  \n2            一汽马自达阿特兹车身异响 天窗异响  2020-06-08   信息审核          A11      0  \n3           一汽大众迈腾起步和刹车时车辆抖动\\t  2020-06-08   信息审核          A11      0  \n4       众泰T600 Coupe售后维修配件一直缺货  2020-06-08   厂家受理          A11      0  \n...                        ...         ...    ...          ...    ...  \n104395   北京现代领动ABS和防侧滑故障灯同时亮\\t  2020-06-05   信息审核         Q350      0  \n104396      一汽大众高尔夫仪表提示变速箱挂入P挡  2020-06-05   处理反馈         Q350      0  \n104397       吉利星越车机系统虚假宣传 卡顿严重  2020-06-05   用户评分         Q350      0  \n104398         北京现代悦纳发动机曲轴螺丝断裂  2020-06-05   信息审核         Q350      0  \n104399      东风日产逍客变速箱报故障码P17F1  2020-06-05   处理反馈         Q350      0  \n\n[104400 rows x 9 columns]",
      "text/html": "<div>\n<style scoped>\n    .dataframe tbody tr th:only-of-type {\n        vertical-align: middle;\n    }\n\n    .dataframe tbody tr th {\n        vertical-align: top;\n    }\n\n    .dataframe thead th {\n        text-align: right;\n    }\n</style>\n<table border=\"1\" class=\"dataframe\">\n  <thead>\n    <tr style=\"text-align: right;\">\n      <th></th>\n      <th>id</th>\n      <th>brand</th>\n      <th>car_model</th>\n      <th>type</th>\n      <th>desc</th>\n      <th>datetime</th>\n      <th>status</th>\n      <th>problem_type</th>\n      <th>count</th>\n    </tr>\n  </thead>\n  <tbody>\n    <tr>\n      <td>0</td>\n      <td>482028</td>\n      <td>一汽马自达</td>\n      <td>阿特兹</td>\n      <td>2020款 2.5L 蓝天运动版</td>\n      <td>一汽马自达阿特兹B柱异响 车内异响严重</td>\n      <td>2020-06-08</td>\n      <td>信息审核</td>\n      <td>A11</td>\n      <td>0</td>\n    </tr>\n    <tr>\n      <td>1</td>\n      <td>482027</td>\n      <td>江淮汽车</td>\n      <td>江淮iEV6E</td>\n      <td>2017款 iEV6E</td>\n      <td>江淮iEV6E动力电池故障 无法充电</td>\n      <td>2020-06-08</td>\n      <td>信息审核</td>\n      <td>A11</td>\n      <td>0</td>\n    </tr>\n    <tr>\n      <td>2</td>\n      <td>482026</td>\n      <td>一汽马自达</td>\n      <td>阿特兹</td>\n      <td>2020款 2.5L 蓝天运动版</td>\n      <td>一汽马自达阿特兹车身异响 天窗异响</td>\n      <td>2020-06-08</td>\n      <td>信息审核</td>\n      <td>A11</td>\n      <td>0</td>\n    </tr>\n    <tr>\n      <td>3</td>\n      <td>482022</td>\n      <td>一汽-大众</td>\n      <td>迈腾</td>\n      <td>2009款 1.8TSI DSG 舒适型</td>\n      <td>一汽大众迈腾起步和刹车时车辆抖动\\t</td>\n      <td>2020-06-08</td>\n      <td>信息审核</td>\n      <td>A11</td>\n      <td>0</td>\n    </tr>\n    <tr>\n      <td>4</td>\n      <td>482019</td>\n      <td>众泰汽车</td>\n      <td>众泰T600 Coupe</td>\n      <td>2017款 1.5T 自动 尊享型</td>\n      <td>众泰T600 Coupe售后维修配件一直缺货</td>\n      <td>2020-06-08</td>\n      <td>厂家受理</td>\n      <td>A11</td>\n      <td>0</td>\n    </tr>\n    <tr>\n      <td>...</td>\n      <td>...</td>\n      <td>...</td>\n      <td>...</td>\n      <td>...</td>\n      <td>...</td>\n      <td>...</td>\n      <td>...</td>\n      <td>...</td>\n      <td>...</td>\n    </tr>\n    <tr>\n      <td>104395</td>\n      <td>480802</td>\n      <td>北京现代</td>\n      <td>领动</td>\n      <td>2016款 1.6L 自动 智炫·精英型</td>\n      <td>北京现代领动ABS和防侧滑故障灯同时亮\\t</td>\n      <td>2020-06-05</td>\n      <td>信息审核</td>\n      <td>Q350</td>\n      <td>0</td>\n    </tr>\n    <tr>\n      <td>104396</td>\n      <td>480801</td>\n      <td>一汽-大众</td>\n      <td>高尔夫</td>\n      <td>2016款 1.4TSI 25周年纪念版</td>\n      <td>一汽大众高尔夫仪表提示变速箱挂入P挡</td>\n      <td>2020-06-05</td>\n      <td>处理反馈</td>\n      <td>Q350</td>\n      <td>0</td>\n    </tr>\n    <tr>\n      <td>104397</td>\n      <td>480799</td>\n      <td>吉利汽车</td>\n      <td>星越</td>\n      <td>2020款 350T 魅影骑士版AWD</td>\n      <td>吉利星越车机系统虚假宣传 卡顿严重</td>\n      <td>2020-06-05</td>\n      <td>用户评分</td>\n      <td>Q350</td>\n      <td>0</td>\n    </tr>\n    <tr>\n      <td>104398</td>\n      <td>480798</td>\n      <td>北京现代</td>\n      <td>悦纳</td>\n      <td>2016款 1.4L 手动 炫酷版 GLS</td>\n      <td>北京现代悦纳发动机曲轴螺丝断裂</td>\n      <td>2020-06-05</td>\n      <td>信息审核</td>\n      <td>Q350</td>\n      <td>0</td>\n    </tr>\n    <tr>\n      <td>104399</td>\n      <td>480795</td>\n      <td>东风日产</td>\n      <td>逍客</td>\n      <td>2016款 2.0L CVT 精英版</td>\n      <td>东风日产逍客变速箱报故障码P17F1</td>\n      <td>2020-06-05</td>\n      <td>处理反馈</td>\n      <td>Q350</td>\n      <td>0</td>\n    </tr>\n  </tbody>\n</table>\n<p>104400 rows × 9 columns</p>\n</div>"
     },
     "metadata": {},
     "execution_count": 5
    }
   ],
   "source": [
    "#convert data to long table\n",
    "result1 = result.melt(\n",
    "    id_vars = result.columns[:7].to_list(),\n",
    "    var_name = 'problem_type',\n",
    "    value_name = 'count'\n",
    ")\n",
    "result1"
   ]
  },
  {
   "cell_type": "code",
   "execution_count": 6,
   "metadata": {},
   "outputs": [
    {
     "output_type": "execute_result",
     "data": {
      "text/plain": "              sum\nproblem_type     \nH15            78\nM279           47\nH134           39\nH93            37\nB19            32\n...           ...\nH149            1\nH118            1\nH104            1\nG261            1\nQ350            1\n\n[174 rows x 1 columns]",
      "text/html": "<div>\n<style scoped>\n    .dataframe tbody tr th:only-of-type {\n        vertical-align: middle;\n    }\n\n    .dataframe tbody tr th {\n        vertical-align: top;\n    }\n\n    .dataframe thead th {\n        text-align: right;\n    }\n</style>\n<table border=\"1\" class=\"dataframe\">\n  <thead>\n    <tr style=\"text-align: right;\">\n      <th></th>\n      <th>sum</th>\n    </tr>\n    <tr>\n      <th>problem_type</th>\n      <th></th>\n    </tr>\n  </thead>\n  <tbody>\n    <tr>\n      <td>H15</td>\n      <td>78</td>\n    </tr>\n    <tr>\n      <td>M279</td>\n      <td>47</td>\n    </tr>\n    <tr>\n      <td>H134</td>\n      <td>39</td>\n    </tr>\n    <tr>\n      <td>H93</td>\n      <td>37</td>\n    </tr>\n    <tr>\n      <td>B19</td>\n      <td>32</td>\n    </tr>\n    <tr>\n      <td>...</td>\n      <td>...</td>\n    </tr>\n    <tr>\n      <td>H149</td>\n      <td>1</td>\n    </tr>\n    <tr>\n      <td>H118</td>\n      <td>1</td>\n    </tr>\n    <tr>\n      <td>H104</td>\n      <td>1</td>\n    </tr>\n    <tr>\n      <td>G261</td>\n      <td>1</td>\n    </tr>\n    <tr>\n      <td>Q350</td>\n      <td>1</td>\n    </tr>\n  </tbody>\n</table>\n<p>174 rows × 1 columns</p>\n</div>"
     },
     "metadata": {},
     "execution_count": 6
    }
   ],
   "source": [
    "#count and sort problems by problem_type\n",
    "df3 = result1.groupby(['problem_type'])['count'].agg([sum]).sort_values('sum',ascending = 0)\n",
    "df3"
   ]
  }
 ]
}